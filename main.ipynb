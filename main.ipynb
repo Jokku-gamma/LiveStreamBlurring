{
 "cells": [
  {
   "cell_type": "code",
   "execution_count": 1,
   "id": "053438e9",
   "metadata": {},
   "outputs": [],
   "source": [
    "import cv2\n",
    "import numpy as np"
   ]
  },
  {
   "cell_type": "code",
   "execution_count": 2,
   "id": "24f1622a",
   "metadata": {},
   "outputs": [],
   "source": [
    "face_net=cv2.dnn.readNetFromCaffe(\n",
    "    'deploy.prototxt',\n",
    "    'res10_300x300_ssd_iter_140000.caffemodel'\n",
    ")"
   ]
  },
  {
   "cell_type": "code",
   "execution_count": 3,
   "id": "d733ba9a",
   "metadata": {},
   "outputs": [],
   "source": [
    "plate_cascade=cv2.CascadeClassifier(\"haarcascade_russian_plate_number.xml\")\n"
   ]
  },
  {
   "cell_type": "code",
   "execution_count": 16,
   "id": "89b78366",
   "metadata": {},
   "outputs": [],
   "source": [
    "cap=cv2.VideoCapture(0)\n",
    "while True:\n",
    "    ret,frame=cap.read()\n",
    "    if not ret:\n",
    "        break\n",
    "    plate_det_frame=frame.copy()\n",
    "    h,w=frame.shape[:2]\n",
    "    blob=cv2.dnn.blobFromImage(cv2.resize(frame,(300,300)),1.0,(300,300),(104.0,177.0,123.0))\n",
    "    face_net.setInput(blob)\n",
    "    dets=face_net.forward()\n",
    "\n",
    "    for i in range(dets.shape[2]):\n",
    "        conf=dets[0,0,i,2]\n",
    "        if conf>0.5:\n",
    "            box=dets[0,0,i,3:7] * np.array([w,h,w,h])\n",
    "            (startX,startY,endX,endY)=box.astype(\"int\")\n",
    "\n",
    "            startX,startY=max(0,startX),max(0,startY)\n",
    "            endX,endY=min(w,endX),min(h,endY)\n",
    "\n",
    "            if endY>startY and endX>startX:\n",
    "                face_roi=frame[startY:endY,startX:endX]\n",
    "                frame[startY:endY,startX:endX]=cv2.GaussianBlur(face_roi,(99,99),30)\n",
    "\n",
    "    cv2.imshow(\"Privacy\",frame)\n",
    "    if cv2.waitKey(1) & 0xFF ==ord('q'):\n",
    "        break\n",
    "\n",
    "cap.release()\n",
    "cv2.destroyAllWindows()"
   ]
  },
  {
   "cell_type": "code",
   "execution_count": null,
   "id": "cbfd12dc",
   "metadata": {},
   "outputs": [],
   "source": []
  }
 ],
 "metadata": {
  "kernelspec": {
   "display_name": "Python 3",
   "language": "python",
   "name": "python3"
  },
  "language_info": {
   "codemirror_mode": {
    "name": "ipython",
    "version": 3
   },
   "file_extension": ".py",
   "mimetype": "text/x-python",
   "name": "python",
   "nbconvert_exporter": "python",
   "pygments_lexer": "ipython3",
   "version": "3.11.0"
  }
 },
 "nbformat": 4,
 "nbformat_minor": 5
}
